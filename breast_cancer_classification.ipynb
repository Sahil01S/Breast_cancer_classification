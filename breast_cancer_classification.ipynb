{
  "nbformat": 4,
  "nbformat_minor": 0,
  "metadata": {
    "colab": {
      "provenance": [],
      "authorship_tag": "ABX9TyMFROdVLAfC5JkTRXYNECPP",
      "include_colab_link": true
    },
    "kernelspec": {
      "name": "ir",
      "display_name": "R"
    },
    "language_info": {
      "name": "R"
    }
  },
  "cells": [
    {
      "cell_type": "markdown",
      "metadata": {
        "id": "view-in-github",
        "colab_type": "text"
      },
      "source": [
        "<a href=\"https://colab.research.google.com/github/Sahil01S/Breast_cancer_classification/blob/main/breast_cancer_classification.ipynb\" target=\"_parent\"><img src=\"https://colab.research.google.com/assets/colab-badge.svg\" alt=\"Open In Colab\"/></a>"
      ]
    },
    {
      "cell_type": "code",
      "source": [
        "library(mlbench)\n",
        "library(randomForest)\n",
        "library(ggplot2)\n",
        "\n"
      ],
      "metadata": {
        "id": "Iq-HOD9tDoAS",
        "colab": {
          "base_uri": "https://localhost:8080/"
        },
        "outputId": "936505f5-e1b7-43bc-e083-884d8d86764c"
      },
      "execution_count": null,
      "outputs": [
        {
          "output_type": "stream",
          "name": "stderr",
          "text": [
            "\n",
            "Attaching package: ‘ggplot2’\n",
            "\n",
            "\n",
            "The following object is masked from ‘package:randomForest’:\n",
            "\n",
            "    margin\n",
            "\n",
            "\n"
          ]
        }
      ]
    },
    {
      "cell_type": "code",
      "source": [
        "install.packages(\"caret\")\n",
        "library(caret)\n"
      ],
      "metadata": {
        "colab": {
          "base_uri": "https://localhost:8080/"
        },
        "id": "23Jp5CtMF9DM",
        "outputId": "73c18f18-ceb4-48d4-da90-ea981f28facb"
      },
      "execution_count": null,
      "outputs": [
        {
          "output_type": "stream",
          "name": "stderr",
          "text": [
            "Installing package into ‘/usr/local/lib/R/site-library’\n",
            "(as ‘lib’ is unspecified)\n",
            "\n",
            "also installing the dependencies ‘lava’, ‘prodlim’, ‘ipred’, ‘foreach’, ‘pROC’, ‘recipes’, ‘reshape2’\n",
            "\n",
            "\n",
            "Loading required package: lattice\n",
            "\n"
          ]
        }
      ]
    },
    {
      "cell_type": "code",
      "source": [
        "\n",
        "# Load dataset\n",
        "data(\"BreastCancer\")\n",
        "df <- BreastCancer\n",
        "\n",
        "# Check structure and summary of the dataset\n",
        "str(df)\n",
        "summary(df)\n",
        "\n",
        "df <- df[, -1]\n",
        "\n"
      ],
      "metadata": {
        "colab": {
          "base_uri": "https://localhost:8080/",
          "height": 642
        },
        "id": "eNkfUI2iGu4U",
        "outputId": "7527321a-3f42-4be9-ef96-d271fbcc6e3a"
      },
      "execution_count": null,
      "outputs": [
        {
          "output_type": "stream",
          "name": "stdout",
          "text": [
            "'data.frame':\t699 obs. of  11 variables:\n",
            " $ Id             : chr  \"1000025\" \"1002945\" \"1015425\" \"1016277\" ...\n",
            " $ Cl.thickness   : Ord.factor w/ 10 levels \"1\"<\"2\"<\"3\"<\"4\"<..: 5 5 3 6 4 8 1 2 2 4 ...\n",
            " $ Cell.size      : Ord.factor w/ 10 levels \"1\"<\"2\"<\"3\"<\"4\"<..: 1 4 1 8 1 10 1 1 1 2 ...\n",
            " $ Cell.shape     : Ord.factor w/ 10 levels \"1\"<\"2\"<\"3\"<\"4\"<..: 1 4 1 8 1 10 1 2 1 1 ...\n",
            " $ Marg.adhesion  : Ord.factor w/ 10 levels \"1\"<\"2\"<\"3\"<\"4\"<..: 1 5 1 1 3 8 1 1 1 1 ...\n",
            " $ Epith.c.size   : Ord.factor w/ 10 levels \"1\"<\"2\"<\"3\"<\"4\"<..: 2 7 2 3 2 7 2 2 2 2 ...\n",
            " $ Bare.nuclei    : Factor w/ 10 levels \"1\",\"2\",\"3\",\"4\",..: 1 10 2 4 1 10 10 1 1 1 ...\n",
            " $ Bl.cromatin    : Factor w/ 10 levels \"1\",\"2\",\"3\",\"4\",..: 3 3 3 3 3 9 3 3 1 2 ...\n",
            " $ Normal.nucleoli: Factor w/ 10 levels \"1\",\"2\",\"3\",\"4\",..: 1 2 1 7 1 7 1 1 1 1 ...\n",
            " $ Mitoses        : Factor w/ 9 levels \"1\",\"2\",\"3\",\"4\",..: 1 1 1 1 1 1 1 1 5 1 ...\n",
            " $ Class          : Factor w/ 2 levels \"benign\",\"malignant\": 1 1 1 1 1 2 1 1 1 1 ...\n"
          ]
        },
        {
          "output_type": "display_data",
          "data": {
            "text/plain": [
              "      Id             Cl.thickness   Cell.size     Cell.shape  Marg.adhesion\n",
              " Length:699         1      :145   1      :384   1      :353   1      :407  \n",
              " Class :character   5      :130   10     : 67   2      : 59   2      : 58  \n",
              " Mode  :character   3      :108   3      : 52   10     : 58   3      : 58  \n",
              "                    4      : 80   2      : 45   3      : 56   10     : 55  \n",
              "                    10     : 69   4      : 40   4      : 44   4      : 33  \n",
              "                    2      : 50   5      : 30   5      : 34   8      : 25  \n",
              "                    (Other):117   (Other): 81   (Other): 95   (Other): 63  \n",
              "  Epith.c.size  Bare.nuclei   Bl.cromatin  Normal.nucleoli    Mitoses   \n",
              " 2      :386   1      :402   2      :166   1      :443     1      :579  \n",
              " 3      : 72   10     :132   3      :165   10     : 61     2      : 35  \n",
              " 4      : 48   2      : 30   1      :152   3      : 44     3      : 33  \n",
              " 1      : 47   5      : 30   7      : 73   2      : 36     10     : 14  \n",
              " 6      : 41   3      : 28   4      : 40   8      : 24     4      : 12  \n",
              " 5      : 39   (Other): 61   5      : 34   6      : 22     7      :  9  \n",
              " (Other): 66   NA's   : 16   (Other): 69   (Other): 69     (Other): 17  \n",
              "       Class    \n",
              " benign   :458  \n",
              " malignant:241  \n",
              "                \n",
              "                \n",
              "                \n",
              "                \n",
              "                "
            ]
          },
          "metadata": {}
        }
      ]
    },
    {
      "cell_type": "code",
      "source": [
        "\n",
        "# Convert factors to numeric for modeling\n",
        "df$Cl.thickness <- as.numeric(as.character(df$Cl.thickness))\n",
        "df$Cell.size <- as.numeric(as.character(df$Cell.size))\n",
        "df$Cell.shape <- as.numeric(as.character(df$Cell.shape))\n",
        "df$Marg.adhesion <- as.numeric(as.character(df$Marg.adhesion))\n",
        "df$Epith.c.size <- as.numeric(as.character(df$Epith.c.size))\n",
        "df$Bare.nuclei <- as.numeric(as.character(df$Bare.nuclei))\n",
        "df$Bl.cromatin <- as.numeric(as.character(df$Bl.cromatin))\n",
        "df$Normal.nucleoli <- as.numeric(as.character(df$Normal.nucleoli))\n",
        "df$Mitoses <- as.numeric(as.character(df$Mitoses))\n",
        "\n"
      ],
      "metadata": {
        "id": "-ZRzEEwrG3bO"
      },
      "execution_count": null,
      "outputs": []
    },
    {
      "cell_type": "code",
      "source": [
        "\n",
        "# Convert Class variable to factor and encode as 1 and 2\n",
        "df$Class <- factor(df$Class, levels = c(\"benign\", \"malignant\"))\n",
        "\n",
        "# Handling missing values (impute or remove)\n",
        "df <- na.omit(df)\n",
        "\n"
      ],
      "metadata": {
        "id": "1ECXw7EWG_mi"
      },
      "execution_count": null,
      "outputs": []
    },
    {
      "cell_type": "code",
      "source": [
        "\n",
        "# Split data into training and testing sets\n",
        "set.seed(123)  # For reproducibility\n",
        "trainIndex <- createDataPartition(df$Class, p = 0.7, list = FALSE)\n",
        "trainData <- df[trainIndex, ]\n",
        "testData <- df[-trainIndex, ]\n",
        "\n",
        "# Train random forest model\n",
        "rf_model <- randomForest(Class ~ ., data = trainData, ntree = 500)\n",
        "\n",
        "# Print model summary\n",
        "print(rf_model)\n"
      ],
      "metadata": {
        "colab": {
          "base_uri": "https://localhost:8080/"
        },
        "id": "qR9Lfi6kHLYZ",
        "outputId": "c7b6e5f3-51b6-410d-8fba-20ecc0b0eb49"
      },
      "execution_count": null,
      "outputs": [
        {
          "output_type": "stream",
          "name": "stdout",
          "text": [
            "\n",
            "Call:\n",
            " randomForest(formula = Class ~ ., data = trainData, ntree = 500) \n",
            "               Type of random forest: classification\n",
            "                     Number of trees: 500\n",
            "No. of variables tried at each split: 3\n",
            "\n",
            "        OOB estimate of  error rate: 2.92%\n",
            "Confusion matrix:\n",
            "          benign malignant class.error\n",
            "benign       303         8  0.02572347\n",
            "malignant      6       162  0.03571429\n"
          ]
        }
      ]
    },
    {
      "cell_type": "code",
      "source": [
        "# Predictions on test data\n",
        "predictions <- predict(rf_model, testData)\n",
        "\n",
        "# Confusion matrix and accuracy\n",
        "conf_matrix <- confusionMatrix(predictions, testData$Class)\n",
        "print(conf_matrix)\n"
      ],
      "metadata": {
        "colab": {
          "base_uri": "https://localhost:8080/"
        },
        "id": "fMRo9q__HTRz",
        "outputId": "9b916165-8487-4d83-d0b3-ebe2068c48b6"
      },
      "execution_count": null,
      "outputs": [
        {
          "output_type": "stream",
          "name": "stdout",
          "text": [
            "Confusion Matrix and Statistics\n",
            "\n",
            "           Reference\n",
            "Prediction  benign malignant\n",
            "  benign       130         2\n",
            "  malignant      3        69\n",
            "                                         \n",
            "               Accuracy : 0.9755         \n",
            "                 95% CI : (0.9437, 0.992)\n",
            "    No Information Rate : 0.652          \n",
            "    P-Value [Acc > NIR] : <2e-16         \n",
            "                                         \n",
            "                  Kappa : 0.9462         \n",
            "                                         \n",
            " Mcnemar's Test P-Value : 1              \n",
            "                                         \n",
            "            Sensitivity : 0.9774         \n",
            "            Specificity : 0.9718         \n",
            "         Pos Pred Value : 0.9848         \n",
            "         Neg Pred Value : 0.9583         \n",
            "             Prevalence : 0.6520         \n",
            "         Detection Rate : 0.6373         \n",
            "   Detection Prevalence : 0.6471         \n",
            "      Balanced Accuracy : 0.9746         \n",
            "                                         \n",
            "       'Positive' Class : benign         \n",
            "                                         \n"
          ]
        }
      ]
    },
    {
      "cell_type": "code",
      "source": [
        "install.packages(\"ROCR\")\n",
        "\n",
        "# Load required packages\n",
        "library(ROCR)\n",
        "library(ggplot2)  # If not already loaded\n",
        "\n",
        "# Assuming 'predictions' and 'testData$Class' are already defined from your model\n",
        "pred <- prediction(as.numeric(predictions), testData$Class)\n",
        "perf <- performance(pred, \"tpr\", \"fpr\")\n",
        "\n",
        "\n",
        "\n",
        "plot(perf, main = \"ROC Curve\", col = \"blue\", lwd = 2)\n",
        "\n",
        "# Add diagonal reference line\n",
        "abline(a = 0, b = 1, lty = 2, col = \"gray\")\n",
        "\n",
        "# Add labels\n",
        "legend(\"bottomright\", legend = \"AUC = 0.5\", col = \"blue\", lty = 1, lwd = 2, bty = \"n\")\n",
        "\n"
      ],
      "metadata": {
        "colab": {
          "base_uri": "https://localhost:8080/",
          "height": 541
        },
        "id": "4Je5f_2dHfP9",
        "outputId": "696f9a2c-4d75-4de3-c318-125eb4f0114e"
      },
      "execution_count": null,
      "outputs": [
        {
          "output_type": "stream",
          "name": "stderr",
          "text": [
            "Installing package into ‘/usr/local/lib/R/site-library’\n",
            "(as ‘lib’ is unspecified)\n",
            "\n",
            "also installing the dependencies ‘bitops’, ‘gtools’, ‘caTools’, ‘gplots’\n",
            "\n",
            "\n"
          ]
        },
        {
          "output_type": "display_data",
          "data": {
            "text/plain": [
              "Plot with title “ROC Curve”"
            ],
            "image/png": "[encoded data removed]"
          },
          "metadata": {
            "image/png": {
              "width": 420,
              "height": 420
            }
          }
        }
      ]
    },
    {
      "cell_type": "markdown",
      "source": [
        "It is shgowing that the model performed pretty well."
      ],
      "metadata": {
        "id": "8WgbvghvKy5y"
      }
    },
    {
      "cell_type": "code",
      "source": [
        "\n",
        "# Extract feature importance\n",
        "importance <- importance(rf_model)\n",
        "var_importance <- data.frame(Feature = rownames(importance), Importance = importance[, 1])\n",
        "var_importance <- var_importance[order(-var_importance$Importance), ]\n",
        "\n",
        "# Plot feature importance\n",
        "importance_plot <- ggplot(var_importance, aes(x = reorder(Feature, Importance), y = Importance)) +\n",
        "  geom_bar(stat = \"identity\", fill = \"skyblue\") +\n",
        "  coord_flip() +\n",
        "  labs(title = \"Random Forest - Feature Importance\", x = \"Feature\", y = \"Importance\")\n",
        "print(importance_plot)\n"
      ],
      "metadata": {
        "colab": {
          "base_uri": "https://localhost:8080/",
          "height": 437
        },
        "id": "pToOx6p1I-rA",
        "outputId": "2fb786cf-fc9f-4284-973b-20083f8fd9f6"
      },
      "execution_count": null,
      "outputs": [
        {
          "output_type": "display_data",
          "data": {
            "text/plain": [
              "plot without title"
            ],
            "image/png": "[encoded data removed]"
          },
          "metadata": {
            "image/png": {
              "width": 420,
              "height": 420
            }
          }
        }
      ]
    },
    {
      "cell_type": "markdown",
      "source": [
        "Here we can see cell shape, cell size, bare nuclei is most imposrtant features."
      ],
      "metadata": {
        "id": "WFyMgsQEK6uJ"
      }
    }
  ]
}